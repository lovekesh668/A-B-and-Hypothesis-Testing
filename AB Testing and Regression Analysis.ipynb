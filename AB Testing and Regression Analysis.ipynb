{
 "cells": [
  {
   "cell_type": "markdown",
   "id": "2df7e6df-7033-4beb-a3b7-0e17006b2e39",
   "metadata": {},
   "source": [
    "# Business Problem"
   ]
  },
  {
   "cell_type": "markdown",
   "id": "ce091b7a-5cb6-4d14-8760-45ba9f96404a",
   "metadata": {},
   "source": [
    "Our primary objective is to maximize the return on investment (ROI) for our clients .\n",
    "We have conducted 2 ads on Facebook and AdWords and we need to determine which platform gives better result in terms of click,conversion,and overall cost.\n",
    "By identifying most effective plateform we can allocate our resources more efficiently and optimize our strategies to deliver better outcomes.\n"
   ]
  },
  {
   "cell_type": "markdown",
   "id": "eb93af5b-7475-4024-a95d-f786d56422d1",
   "metadata": {},
   "source": [
    "# Research Question"
   ]
  },
  {
   "cell_type": "markdown",
   "id": "9cd439da-a13e-4fe3-a5f7-8f870eb4878e",
   "metadata": {},
   "source": [
    "which ad platform is more effective in terms of click,conversion,and overall cost effectiveness .?"
   ]
  },
  {
   "cell_type": "code",
   "execution_count": 1,
   "id": "1570bba6-1439-443a-8b82-42e9fe256a66",
   "metadata": {},
   "outputs": [],
   "source": [
    "import numpy as np\n",
    "import pandas as pd \n",
    "import matplotlib.pyplot as plt\n",
    "import seaborn as sns"
   ]
  },
  {
   "cell_type": "code",
   "execution_count": 3,
   "id": "d61a6d12-62aa-476d-b4ec-9d290b3cc2d0",
   "metadata": {},
   "outputs": [
    {
     "data": {
      "text/html": [
       "<div>\n",
       "<style scoped>\n",
       "    .dataframe tbody tr th:only-of-type {\n",
       "        vertical-align: middle;\n",
       "    }\n",
       "\n",
       "    .dataframe tbody tr th {\n",
       "        vertical-align: top;\n",
       "    }\n",
       "\n",
       "    .dataframe thead th {\n",
       "        text-align: right;\n",
       "    }\n",
       "</style>\n",
       "<table border=\"1\" class=\"dataframe\">\n",
       "  <thead>\n",
       "    <tr style=\"text-align: right;\">\n",
       "      <th></th>\n",
       "      <th>Date</th>\n",
       "      <th>Facebook Ad Campaign</th>\n",
       "      <th>Facebook Ad Views</th>\n",
       "      <th>Facebook Ad Clicks</th>\n",
       "      <th>Facebook Ad Conversions</th>\n",
       "      <th>Cost per Facebook Ad</th>\n",
       "      <th>Facebook Click-Through Rate (Clicks / View)</th>\n",
       "      <th>Facebook Conversion Rate (Conversions / Clicks)</th>\n",
       "      <th>Facebook Cost per Click (Ad Cost / Clicks)</th>\n",
       "      <th>AdWords Ad Campaign</th>\n",
       "      <th>AdWords Ad Views</th>\n",
       "      <th>AdWords Ad Clicks</th>\n",
       "      <th>AdWords Ad Conversions</th>\n",
       "      <th>Cost per AdWords Ad</th>\n",
       "      <th>AdWords Click-Through Rate (Clicks / View)</th>\n",
       "      <th>AdWords Conversion Rate (Conversions / Click)</th>\n",
       "      <th>AdWords Cost per Click (Ad Cost / Clicks)</th>\n",
       "    </tr>\n",
       "  </thead>\n",
       "  <tbody>\n",
       "    <tr>\n",
       "      <th>0</th>\n",
       "      <td>1/1/2019</td>\n",
       "      <td>FB_Jan19</td>\n",
       "      <td>2116</td>\n",
       "      <td>18</td>\n",
       "      <td>8</td>\n",
       "      <td>$126</td>\n",
       "      <td>0.83%</td>\n",
       "      <td>42.73%</td>\n",
       "      <td>$7.14</td>\n",
       "      <td>AW_Jan19</td>\n",
       "      <td>4984</td>\n",
       "      <td>59</td>\n",
       "      <td>5</td>\n",
       "      <td>$194</td>\n",
       "      <td>1.18%</td>\n",
       "      <td>8.40%</td>\n",
       "      <td>$3.30</td>\n",
       "    </tr>\n",
       "    <tr>\n",
       "      <th>1</th>\n",
       "      <td>1/2/2019</td>\n",
       "      <td>FB_Jan19</td>\n",
       "      <td>3106</td>\n",
       "      <td>36</td>\n",
       "      <td>12</td>\n",
       "      <td>$104</td>\n",
       "      <td>1.15%</td>\n",
       "      <td>34.04%</td>\n",
       "      <td>$2.91</td>\n",
       "      <td>AW_Jan19</td>\n",
       "      <td>4022</td>\n",
       "      <td>71</td>\n",
       "      <td>6</td>\n",
       "      <td>$75</td>\n",
       "      <td>1.77%</td>\n",
       "      <td>7.80%</td>\n",
       "      <td>$1.05</td>\n",
       "    </tr>\n",
       "    <tr>\n",
       "      <th>2</th>\n",
       "      <td>1/3/2019</td>\n",
       "      <td>FB_Jan19</td>\n",
       "      <td>3105</td>\n",
       "      <td>26</td>\n",
       "      <td>8</td>\n",
       "      <td>$102</td>\n",
       "      <td>0.84%</td>\n",
       "      <td>31.45%</td>\n",
       "      <td>$3.89</td>\n",
       "      <td>AW_Jan19</td>\n",
       "      <td>3863</td>\n",
       "      <td>44</td>\n",
       "      <td>4</td>\n",
       "      <td>$141</td>\n",
       "      <td>1.13%</td>\n",
       "      <td>9.59%</td>\n",
       "      <td>$3.23</td>\n",
       "    </tr>\n",
       "    <tr>\n",
       "      <th>3</th>\n",
       "      <td>1/4/2019</td>\n",
       "      <td>FB_Jan19</td>\n",
       "      <td>1107</td>\n",
       "      <td>27</td>\n",
       "      <td>9</td>\n",
       "      <td>$71</td>\n",
       "      <td>2.45%</td>\n",
       "      <td>34.76%</td>\n",
       "      <td>$2.62</td>\n",
       "      <td>AW_Jan19</td>\n",
       "      <td>3911</td>\n",
       "      <td>49</td>\n",
       "      <td>5</td>\n",
       "      <td>$141</td>\n",
       "      <td>1.26%</td>\n",
       "      <td>11.08%</td>\n",
       "      <td>$2.86</td>\n",
       "    </tr>\n",
       "    <tr>\n",
       "      <th>4</th>\n",
       "      <td>1/5/2019</td>\n",
       "      <td>FB_Jan19</td>\n",
       "      <td>1317</td>\n",
       "      <td>15</td>\n",
       "      <td>7</td>\n",
       "      <td>$78</td>\n",
       "      <td>1.10%</td>\n",
       "      <td>47.59%</td>\n",
       "      <td>$5.38</td>\n",
       "      <td>AW_Jan19</td>\n",
       "      <td>4070</td>\n",
       "      <td>55</td>\n",
       "      <td>7</td>\n",
       "      <td>$133</td>\n",
       "      <td>1.36%</td>\n",
       "      <td>12.22%</td>\n",
       "      <td>$2.40</td>\n",
       "    </tr>\n",
       "    <tr>\n",
       "      <th>...</th>\n",
       "      <td>...</td>\n",
       "      <td>...</td>\n",
       "      <td>...</td>\n",
       "      <td>...</td>\n",
       "      <td>...</td>\n",
       "      <td>...</td>\n",
       "      <td>...</td>\n",
       "      <td>...</td>\n",
       "      <td>...</td>\n",
       "      <td>...</td>\n",
       "      <td>...</td>\n",
       "      <td>...</td>\n",
       "      <td>...</td>\n",
       "      <td>...</td>\n",
       "      <td>...</td>\n",
       "      <td>...</td>\n",
       "      <td>...</td>\n",
       "    </tr>\n",
       "    <tr>\n",
       "      <th>360</th>\n",
       "      <td>12/27/2019</td>\n",
       "      <td>FB_Dec19</td>\n",
       "      <td>3240</td>\n",
       "      <td>51</td>\n",
       "      <td>13</td>\n",
       "      <td>$63</td>\n",
       "      <td>1.57%</td>\n",
       "      <td>25.89%</td>\n",
       "      <td>$1.24</td>\n",
       "      <td>AW_Dec19</td>\n",
       "      <td>5332</td>\n",
       "      <td>72</td>\n",
       "      <td>9</td>\n",
       "      <td>$76</td>\n",
       "      <td>1.35%</td>\n",
       "      <td>11.92%</td>\n",
       "      <td>$1.06</td>\n",
       "    </tr>\n",
       "    <tr>\n",
       "      <th>361</th>\n",
       "      <td>12/28/2019</td>\n",
       "      <td>FB_Dec19</td>\n",
       "      <td>1510</td>\n",
       "      <td>69</td>\n",
       "      <td>18</td>\n",
       "      <td>$97</td>\n",
       "      <td>4.55%</td>\n",
       "      <td>25.82%</td>\n",
       "      <td>$1.42</td>\n",
       "      <td>AW_Dec19</td>\n",
       "      <td>3887</td>\n",
       "      <td>49</td>\n",
       "      <td>6</td>\n",
       "      <td>$121</td>\n",
       "      <td>1.27%</td>\n",
       "      <td>13.10%</td>\n",
       "      <td>$2.46</td>\n",
       "    </tr>\n",
       "    <tr>\n",
       "      <th>362</th>\n",
       "      <td>12/29/2019</td>\n",
       "      <td>FB_Dec19</td>\n",
       "      <td>2918</td>\n",
       "      <td>44</td>\n",
       "      <td>13</td>\n",
       "      <td>$49</td>\n",
       "      <td>1.50%</td>\n",
       "      <td>29.11%</td>\n",
       "      <td>$1.11</td>\n",
       "      <td>AW_Dec19</td>\n",
       "      <td>5327</td>\n",
       "      <td>62</td>\n",
       "      <td>6</td>\n",
       "      <td>$128</td>\n",
       "      <td>1.16%</td>\n",
       "      <td>9.85%</td>\n",
       "      <td>$2.08</td>\n",
       "    </tr>\n",
       "    <tr>\n",
       "      <th>363</th>\n",
       "      <td>12/30/2019</td>\n",
       "      <td>FB_Dec19</td>\n",
       "      <td>2212</td>\n",
       "      <td>37</td>\n",
       "      <td>8</td>\n",
       "      <td>$102</td>\n",
       "      <td>1.68%</td>\n",
       "      <td>22.70%</td>\n",
       "      <td>$2.75</td>\n",
       "      <td>AW_Dec19</td>\n",
       "      <td>4020</td>\n",
       "      <td>71</td>\n",
       "      <td>6</td>\n",
       "      <td>$119</td>\n",
       "      <td>1.76%</td>\n",
       "      <td>7.83%</td>\n",
       "      <td>$1.68</td>\n",
       "    </tr>\n",
       "    <tr>\n",
       "      <th>364</th>\n",
       "      <td>12/31/2019</td>\n",
       "      <td>FB_Dec19</td>\n",
       "      <td>1470</td>\n",
       "      <td>60</td>\n",
       "      <td>17</td>\n",
       "      <td>$99</td>\n",
       "      <td>4.06%</td>\n",
       "      <td>28.38%</td>\n",
       "      <td>$1.65</td>\n",
       "      <td>AW_Dec19</td>\n",
       "      <td>4592</td>\n",
       "      <td>47</td>\n",
       "      <td>6</td>\n",
       "      <td>$86</td>\n",
       "      <td>1.01%</td>\n",
       "      <td>13.60%</td>\n",
       "      <td>$1.85</td>\n",
       "    </tr>\n",
       "  </tbody>\n",
       "</table>\n",
       "<p>365 rows × 17 columns</p>\n",
       "</div>"
      ],
      "text/plain": [
       "           Date Facebook Ad Campaign  Facebook Ad Views  Facebook Ad Clicks  \\\n",
       "0      1/1/2019             FB_Jan19               2116                  18   \n",
       "1      1/2/2019             FB_Jan19               3106                  36   \n",
       "2      1/3/2019             FB_Jan19               3105                  26   \n",
       "3      1/4/2019             FB_Jan19               1107                  27   \n",
       "4      1/5/2019             FB_Jan19               1317                  15   \n",
       "..          ...                  ...                ...                 ...   \n",
       "360  12/27/2019             FB_Dec19               3240                  51   \n",
       "361  12/28/2019             FB_Dec19               1510                  69   \n",
       "362  12/29/2019             FB_Dec19               2918                  44   \n",
       "363  12/30/2019             FB_Dec19               2212                  37   \n",
       "364  12/31/2019             FB_Dec19               1470                  60   \n",
       "\n",
       "     Facebook Ad Conversions Cost per Facebook Ad  \\\n",
       "0                          8                 $126   \n",
       "1                         12                 $104   \n",
       "2                          8                 $102   \n",
       "3                          9                  $71   \n",
       "4                          7                  $78   \n",
       "..                       ...                  ...   \n",
       "360                       13                  $63   \n",
       "361                       18                  $97   \n",
       "362                       13                  $49   \n",
       "363                        8                 $102   \n",
       "364                       17                  $99   \n",
       "\n",
       "    Facebook Click-Through Rate (Clicks / View)  \\\n",
       "0                                         0.83%   \n",
       "1                                         1.15%   \n",
       "2                                         0.84%   \n",
       "3                                         2.45%   \n",
       "4                                         1.10%   \n",
       "..                                          ...   \n",
       "360                                       1.57%   \n",
       "361                                       4.55%   \n",
       "362                                       1.50%   \n",
       "363                                       1.68%   \n",
       "364                                       4.06%   \n",
       "\n",
       "    Facebook Conversion Rate (Conversions / Clicks)  \\\n",
       "0                                            42.73%   \n",
       "1                                            34.04%   \n",
       "2                                            31.45%   \n",
       "3                                            34.76%   \n",
       "4                                            47.59%   \n",
       "..                                              ...   \n",
       "360                                          25.89%   \n",
       "361                                          25.82%   \n",
       "362                                          29.11%   \n",
       "363                                          22.70%   \n",
       "364                                          28.38%   \n",
       "\n",
       "    Facebook Cost per Click (Ad Cost / Clicks) AdWords Ad Campaign  \\\n",
       "0                                        $7.14            AW_Jan19   \n",
       "1                                        $2.91            AW_Jan19   \n",
       "2                                        $3.89            AW_Jan19   \n",
       "3                                        $2.62            AW_Jan19   \n",
       "4                                        $5.38            AW_Jan19   \n",
       "..                                         ...                 ...   \n",
       "360                                      $1.24            AW_Dec19   \n",
       "361                                      $1.42            AW_Dec19   \n",
       "362                                      $1.11            AW_Dec19   \n",
       "363                                      $2.75            AW_Dec19   \n",
       "364                                      $1.65            AW_Dec19   \n",
       "\n",
       "     AdWords Ad Views  AdWords Ad Clicks  AdWords Ad Conversions  \\\n",
       "0                4984                 59                       5   \n",
       "1                4022                 71                       6   \n",
       "2                3863                 44                       4   \n",
       "3                3911                 49                       5   \n",
       "4                4070                 55                       7   \n",
       "..                ...                ...                     ...   \n",
       "360              5332                 72                       9   \n",
       "361              3887                 49                       6   \n",
       "362              5327                 62                       6   \n",
       "363              4020                 71                       6   \n",
       "364              4592                 47                       6   \n",
       "\n",
       "    Cost per AdWords Ad AdWords Click-Through Rate (Clicks / View)  \\\n",
       "0                  $194                                      1.18%   \n",
       "1                   $75                                      1.77%   \n",
       "2                  $141                                      1.13%   \n",
       "3                  $141                                      1.26%   \n",
       "4                  $133                                      1.36%   \n",
       "..                  ...                                        ...   \n",
       "360                 $76                                      1.35%   \n",
       "361                $121                                      1.27%   \n",
       "362                $128                                      1.16%   \n",
       "363                $119                                      1.76%   \n",
       "364                 $86                                      1.01%   \n",
       "\n",
       "    AdWords Conversion Rate (Conversions / Click)  \\\n",
       "0                                           8.40%   \n",
       "1                                           7.80%   \n",
       "2                                           9.59%   \n",
       "3                                          11.08%   \n",
       "4                                          12.22%   \n",
       "..                                            ...   \n",
       "360                                        11.92%   \n",
       "361                                        13.10%   \n",
       "362                                         9.85%   \n",
       "363                                         7.83%   \n",
       "364                                        13.60%   \n",
       "\n",
       "    AdWords Cost per Click (Ad Cost / Clicks)  \n",
       "0                                       $3.30  \n",
       "1                                       $1.05  \n",
       "2                                       $3.23  \n",
       "3                                       $2.86  \n",
       "4                                       $2.40  \n",
       "..                                        ...  \n",
       "360                                     $1.06  \n",
       "361                                     $2.46  \n",
       "362                                     $2.08  \n",
       "363                                     $1.68  \n",
       "364                                     $1.85  \n",
       "\n",
       "[365 rows x 17 columns]"
      ]
     },
     "execution_count": 3,
     "metadata": {},
     "output_type": "execute_result"
    }
   ],
   "source": [
    "# Loading the dataset\n",
    "df=pd.read_csv(\"marketing_campaign.csv\")\n",
    "df"
   ]
  },
  {
   "cell_type": "code",
   "execution_count": 4,
   "id": "e0b4b919-02e0-4353-9c44-57d1f6912cc5",
   "metadata": {},
   "outputs": [
    {
     "data": {
      "text/html": [
       "<div>\n",
       "<style scoped>\n",
       "    .dataframe tbody tr th:only-of-type {\n",
       "        vertical-align: middle;\n",
       "    }\n",
       "\n",
       "    .dataframe tbody tr th {\n",
       "        vertical-align: top;\n",
       "    }\n",
       "\n",
       "    .dataframe thead th {\n",
       "        text-align: right;\n",
       "    }\n",
       "</style>\n",
       "<table border=\"1\" class=\"dataframe\">\n",
       "  <thead>\n",
       "    <tr style=\"text-align: right;\">\n",
       "      <th></th>\n",
       "      <th>Date</th>\n",
       "      <th>Facebook Ad Campaign</th>\n",
       "      <th>Facebook Ad Views</th>\n",
       "      <th>Facebook Ad Clicks</th>\n",
       "      <th>Facebook Ad Conversions</th>\n",
       "      <th>Cost per Facebook Ad</th>\n",
       "      <th>Facebook Click-Through Rate (Clicks / View)</th>\n",
       "      <th>Facebook Conversion Rate (Conversions / Clicks)</th>\n",
       "      <th>Facebook Cost per Click (Ad Cost / Clicks)</th>\n",
       "      <th>AdWords Ad Campaign</th>\n",
       "      <th>AdWords Ad Views</th>\n",
       "      <th>AdWords Ad Clicks</th>\n",
       "      <th>AdWords Ad Conversions</th>\n",
       "      <th>Cost per AdWords Ad</th>\n",
       "      <th>AdWords Click-Through Rate (Clicks / View)</th>\n",
       "      <th>AdWords Conversion Rate (Conversions / Click)</th>\n",
       "      <th>AdWords Cost per Click (Ad Cost / Clicks)</th>\n",
       "    </tr>\n",
       "  </thead>\n",
       "  <tbody>\n",
       "    <tr>\n",
       "      <th>0</th>\n",
       "      <td>1/1/2019</td>\n",
       "      <td>FB_Jan19</td>\n",
       "      <td>2116</td>\n",
       "      <td>18</td>\n",
       "      <td>8</td>\n",
       "      <td>$126</td>\n",
       "      <td>0.83%</td>\n",
       "      <td>42.73%</td>\n",
       "      <td>$7.14</td>\n",
       "      <td>AW_Jan19</td>\n",
       "      <td>4984</td>\n",
       "      <td>59</td>\n",
       "      <td>5</td>\n",
       "      <td>$194</td>\n",
       "      <td>1.18%</td>\n",
       "      <td>8.40%</td>\n",
       "      <td>$3.30</td>\n",
       "    </tr>\n",
       "    <tr>\n",
       "      <th>1</th>\n",
       "      <td>1/2/2019</td>\n",
       "      <td>FB_Jan19</td>\n",
       "      <td>3106</td>\n",
       "      <td>36</td>\n",
       "      <td>12</td>\n",
       "      <td>$104</td>\n",
       "      <td>1.15%</td>\n",
       "      <td>34.04%</td>\n",
       "      <td>$2.91</td>\n",
       "      <td>AW_Jan19</td>\n",
       "      <td>4022</td>\n",
       "      <td>71</td>\n",
       "      <td>6</td>\n",
       "      <td>$75</td>\n",
       "      <td>1.77%</td>\n",
       "      <td>7.80%</td>\n",
       "      <td>$1.05</td>\n",
       "    </tr>\n",
       "    <tr>\n",
       "      <th>2</th>\n",
       "      <td>1/3/2019</td>\n",
       "      <td>FB_Jan19</td>\n",
       "      <td>3105</td>\n",
       "      <td>26</td>\n",
       "      <td>8</td>\n",
       "      <td>$102</td>\n",
       "      <td>0.84%</td>\n",
       "      <td>31.45%</td>\n",
       "      <td>$3.89</td>\n",
       "      <td>AW_Jan19</td>\n",
       "      <td>3863</td>\n",
       "      <td>44</td>\n",
       "      <td>4</td>\n",
       "      <td>$141</td>\n",
       "      <td>1.13%</td>\n",
       "      <td>9.59%</td>\n",
       "      <td>$3.23</td>\n",
       "    </tr>\n",
       "    <tr>\n",
       "      <th>3</th>\n",
       "      <td>1/4/2019</td>\n",
       "      <td>FB_Jan19</td>\n",
       "      <td>1107</td>\n",
       "      <td>27</td>\n",
       "      <td>9</td>\n",
       "      <td>$71</td>\n",
       "      <td>2.45%</td>\n",
       "      <td>34.76%</td>\n",
       "      <td>$2.62</td>\n",
       "      <td>AW_Jan19</td>\n",
       "      <td>3911</td>\n",
       "      <td>49</td>\n",
       "      <td>5</td>\n",
       "      <td>$141</td>\n",
       "      <td>1.26%</td>\n",
       "      <td>11.08%</td>\n",
       "      <td>$2.86</td>\n",
       "    </tr>\n",
       "    <tr>\n",
       "      <th>4</th>\n",
       "      <td>1/5/2019</td>\n",
       "      <td>FB_Jan19</td>\n",
       "      <td>1317</td>\n",
       "      <td>15</td>\n",
       "      <td>7</td>\n",
       "      <td>$78</td>\n",
       "      <td>1.10%</td>\n",
       "      <td>47.59%</td>\n",
       "      <td>$5.38</td>\n",
       "      <td>AW_Jan19</td>\n",
       "      <td>4070</td>\n",
       "      <td>55</td>\n",
       "      <td>7</td>\n",
       "      <td>$133</td>\n",
       "      <td>1.36%</td>\n",
       "      <td>12.22%</td>\n",
       "      <td>$2.40</td>\n",
       "    </tr>\n",
       "  </tbody>\n",
       "</table>\n",
       "</div>"
      ],
      "text/plain": [
       "       Date Facebook Ad Campaign  Facebook Ad Views  Facebook Ad Clicks  \\\n",
       "0  1/1/2019             FB_Jan19               2116                  18   \n",
       "1  1/2/2019             FB_Jan19               3106                  36   \n",
       "2  1/3/2019             FB_Jan19               3105                  26   \n",
       "3  1/4/2019             FB_Jan19               1107                  27   \n",
       "4  1/5/2019             FB_Jan19               1317                  15   \n",
       "\n",
       "   Facebook Ad Conversions Cost per Facebook Ad  \\\n",
       "0                        8                 $126   \n",
       "1                       12                 $104   \n",
       "2                        8                 $102   \n",
       "3                        9                  $71   \n",
       "4                        7                  $78   \n",
       "\n",
       "  Facebook Click-Through Rate (Clicks / View)  \\\n",
       "0                                       0.83%   \n",
       "1                                       1.15%   \n",
       "2                                       0.84%   \n",
       "3                                       2.45%   \n",
       "4                                       1.10%   \n",
       "\n",
       "  Facebook Conversion Rate (Conversions / Clicks)  \\\n",
       "0                                          42.73%   \n",
       "1                                          34.04%   \n",
       "2                                          31.45%   \n",
       "3                                          34.76%   \n",
       "4                                          47.59%   \n",
       "\n",
       "  Facebook Cost per Click (Ad Cost / Clicks) AdWords Ad Campaign  \\\n",
       "0                                      $7.14            AW_Jan19   \n",
       "1                                      $2.91            AW_Jan19   \n",
       "2                                      $3.89            AW_Jan19   \n",
       "3                                      $2.62            AW_Jan19   \n",
       "4                                      $5.38            AW_Jan19   \n",
       "\n",
       "   AdWords Ad Views  AdWords Ad Clicks  AdWords Ad Conversions  \\\n",
       "0              4984                 59                       5   \n",
       "1              4022                 71                       6   \n",
       "2              3863                 44                       4   \n",
       "3              3911                 49                       5   \n",
       "4              4070                 55                       7   \n",
       "\n",
       "  Cost per AdWords Ad AdWords Click-Through Rate (Clicks / View)  \\\n",
       "0                $194                                      1.18%   \n",
       "1                 $75                                      1.77%   \n",
       "2                $141                                      1.13%   \n",
       "3                $141                                      1.26%   \n",
       "4                $133                                      1.36%   \n",
       "\n",
       "  AdWords Conversion Rate (Conversions / Click)  \\\n",
       "0                                         8.40%   \n",
       "1                                         7.80%   \n",
       "2                                         9.59%   \n",
       "3                                        11.08%   \n",
       "4                                        12.22%   \n",
       "\n",
       "  AdWords Cost per Click (Ad Cost / Clicks)  \n",
       "0                                     $3.30  \n",
       "1                                     $1.05  \n",
       "2                                     $3.23  \n",
       "3                                     $2.86  \n",
       "4                                     $2.40  "
      ]
     },
     "execution_count": 4,
     "metadata": {},
     "output_type": "execute_result"
    }
   ],
   "source": [
    "# data overview\n",
    "df.head()"
   ]
  },
  {
   "cell_type": "code",
   "execution_count": 6,
   "id": "cfbd61f6-dbd3-4162-99bd-22f412fcfe65",
   "metadata": {},
   "outputs": [
    {
     "data": {
      "text/plain": [
       "(365, 17)"
      ]
     },
     "execution_count": 6,
     "metadata": {},
     "output_type": "execute_result"
    }
   ],
   "source": [
    "df.shape"
   ]
  },
  {
   "cell_type": "markdown",
   "id": "21b1b57a-34e6-4931-80b2-1d6020371cba",
   "metadata": {},
   "source": [
    "365 rows and 17 columns\n"
   ]
  },
  {
   "cell_type": "code",
   "execution_count": 9,
   "id": "76cdd315-49a6-4586-aba5-a8af4cc2dc02",
   "metadata": {},
   "outputs": [
    {
     "data": {
      "text/plain": [
       "Date                                               object\n",
       "Facebook Ad Campaign                               object\n",
       "Facebook Ad Views                                   int64\n",
       "Facebook Ad Clicks                                  int64\n",
       "Facebook Ad Conversions                             int64\n",
       "Cost per Facebook Ad                               object\n",
       "Facebook Click-Through Rate (Clicks / View)        object\n",
       "Facebook Conversion Rate (Conversions / Clicks)    object\n",
       "Facebook Cost per Click (Ad Cost / Clicks)         object\n",
       "AdWords Ad Campaign                                object\n",
       "AdWords Ad Views                                    int64\n",
       "AdWords Ad Clicks                                   int64\n",
       "AdWords Ad Conversions                              int64\n",
       "Cost per AdWords Ad                                object\n",
       "AdWords Click-Through Rate (Clicks / View)         object\n",
       "AdWords Conversion Rate (Conversions / Click)      object\n",
       "AdWords Cost per Click (Ad Cost / Clicks)          object\n",
       "dtype: object"
      ]
     },
     "execution_count": 9,
     "metadata": {},
     "output_type": "execute_result"
    }
   ],
   "source": [
    "# Datatype of data\n",
    "df.dtypes"
   ]
  },
  {
   "cell_type": "code",
   "execution_count": 15,
   "id": "5464487a-85ca-45b5-a638-aed622d5e533",
   "metadata": {},
   "outputs": [],
   "source": [
    "# Convert datatype of Date column\n",
    "df[\"Date\"]=pd.to_datetime(df[\"Date\"])"
   ]
  },
  {
   "cell_type": "code",
   "execution_count": 14,
   "id": "9d65e8f3-56c7-4397-8bd5-1962ecc0e253",
   "metadata": {},
   "outputs": [
    {
     "data": {
      "text/plain": [
       "Date                                               datetime64[ns]\n",
       "Facebook Ad Campaign                                       object\n",
       "Facebook Ad Views                                           int64\n",
       "Facebook Ad Clicks                                          int64\n",
       "Facebook Ad Conversions                                     int64\n",
       "Cost per Facebook Ad                                       object\n",
       "Facebook Click-Through Rate (Clicks / View)                object\n",
       "Facebook Conversion Rate (Conversions / Clicks)            object\n",
       "Facebook Cost per Click (Ad Cost / Clicks)                 object\n",
       "AdWords Ad Campaign                                        object\n",
       "AdWords Ad Views                                            int64\n",
       "AdWords Ad Clicks                                           int64\n",
       "AdWords Ad Conversions                                      int64\n",
       "Cost per AdWords Ad                                        object\n",
       "AdWords Click-Through Rate (Clicks / View)                 object\n",
       "AdWords Conversion Rate (Conversions / Click)              object\n",
       "AdWords Cost per Click (Ad Cost / Clicks)                  object\n",
       "dtype: object"
      ]
     },
     "execution_count": 14,
     "metadata": {},
     "output_type": "execute_result"
    }
   ],
   "source": [
    "df.dtypes"
   ]
  },
  {
   "cell_type": "markdown",
   "id": "404cd1e4-3bf6-4b63-99e1-1d45e6293d63",
   "metadata": {},
   "source": [
    "# Comparing campaign performance"
   ]
  },
  {
   "cell_type": "code",
   "execution_count": 20,
   "id": "a661bf0e-2105-4ac4-90f1-50a818f9e6e5",
   "metadata": {},
   "outputs": [
    {
     "data": {
      "image/png": "[encoded data removed]",
      "text/plain": [
       "<Figure size 1500x400 with 2 Axes>"
      ]
     },
     "metadata": {},
     "output_type": "display_data"
    },
    {
     "data": {
      "image/png": "[encoded data removed]",
      "text/plain": [
       "<Figure size 1500x400 with 2 Axes>"
      ]
     },
     "metadata": {},
     "output_type": "display_data"
    }
   ],
   "source": [
    "# Distribution of the clicks and conversions \n",
    "\n",
    "plt.figure(figsize=(15,4))\n",
    "plt.subplot(1,2,1)\n",
    "plt.title(\"Facebook Ad Clicks\")\n",
    "sns.histplot(x='Facebook Ad Clicks',data=df,bins=7,kde=True)\n",
    "plt.subplot(1,2,2)\n",
    "plt.title(\"Facebook Ad Conversions\")\n",
    "sns.histplot(x='Facebook Ad Conversions',data=df,bins=7,kde=True)\n",
    "plt.show()\n",
    "\n",
    "plt.figure(figsize=(15,4))\n",
    "plt.subplot(1,2,1)\n",
    "plt.title(\"AdWords Ad Clicks\")\n",
    "sns.histplot(df['AdWords Ad Clicks'],bins=7,kde=True)\n",
    "plt.subplot(1,2,2)\n",
    "plt.title(\"AdWords Ad Conversions\")\n",
    "sns.histplot(df['AdWords Ad Conversions'],bins=7,kde=True)\n",
    "plt.show()\n",
    "\n"
   ]
  },
  {
   "cell_type": "markdown",
   "id": "5104d2c6-b448-4541-8a13-e9ec3084462e",
   "metadata": {},
   "source": [
    "# Q:- How frequently do we observe days with high numbers of conversions compared to days with low number of conversions"
   ]
  },
  {
   "cell_type": "code",
   "execution_count": 21,
   "id": "6e37dd08-cc5b-4628-9ecf-860cfc8d836d",
   "metadata": {},
   "outputs": [],
   "source": [
    "# Calculate categories for the conversion\n",
    "def create_conversion_category(conversion_col):\n",
    "    category=[]\n",
    "    for conversion in df[conversion_col]:\n",
    "        if conversion<6:\n",
    "            category.append(\"less than 6\")\n",
    "        elif 6<=conversion<11:\n",
    "            category.append('6-10')\n",
    "        elif 11<=conversion<16:\n",
    "            category.append('11-15')\n",
    "        else:\n",
    "            category.append('more than 15')\n",
    "    return category\n",
    "\n",
    "# Applying functions of diff. campaign's conversions\n",
    "df['Facebook Conversion Category']=create_conversion_category('Facebook Ad Conversions')\n",
    "df['AdWords Conversion Category']=create_conversion_category('AdWords Ad Conversions')"
   ]
  },
  {
   "cell_type": "code",
   "execution_count": 23,
   "id": "7dc2ff7e-e6f2-4679-a0d4-ebcf6f4a6c57",
   "metadata": {},
   "outputs": [
    {
     "data": {
      "text/html": [
       "<div>\n",
       "<style scoped>\n",
       "    .dataframe tbody tr th:only-of-type {\n",
       "        vertical-align: middle;\n",
       "    }\n",
       "\n",
       "    .dataframe tbody tr th {\n",
       "        vertical-align: top;\n",
       "    }\n",
       "\n",
       "    .dataframe thead th {\n",
       "        text-align: right;\n",
       "    }\n",
       "</style>\n",
       "<table border=\"1\" class=\"dataframe\">\n",
       "  <thead>\n",
       "    <tr style=\"text-align: right;\">\n",
       "      <th></th>\n",
       "      <th>Facebook Ad Conversions</th>\n",
       "      <th>Facebook Conversion Category</th>\n",
       "      <th>AdWords Ad Conversions</th>\n",
       "      <th>AdWords Conversion Category</th>\n",
       "    </tr>\n",
       "  </thead>\n",
       "  <tbody>\n",
       "    <tr>\n",
       "      <th>0</th>\n",
       "      <td>8</td>\n",
       "      <td>6-10</td>\n",
       "      <td>5</td>\n",
       "      <td>less than 6</td>\n",
       "    </tr>\n",
       "    <tr>\n",
       "      <th>1</th>\n",
       "      <td>12</td>\n",
       "      <td>11-15</td>\n",
       "      <td>6</td>\n",
       "      <td>6-10</td>\n",
       "    </tr>\n",
       "    <tr>\n",
       "      <th>2</th>\n",
       "      <td>8</td>\n",
       "      <td>6-10</td>\n",
       "      <td>4</td>\n",
       "      <td>less than 6</td>\n",
       "    </tr>\n",
       "    <tr>\n",
       "      <th>3</th>\n",
       "      <td>9</td>\n",
       "      <td>6-10</td>\n",
       "      <td>5</td>\n",
       "      <td>less than 6</td>\n",
       "    </tr>\n",
       "    <tr>\n",
       "      <th>4</th>\n",
       "      <td>7</td>\n",
       "      <td>6-10</td>\n",
       "      <td>7</td>\n",
       "      <td>6-10</td>\n",
       "    </tr>\n",
       "    <tr>\n",
       "      <th>...</th>\n",
       "      <td>...</td>\n",
       "      <td>...</td>\n",
       "      <td>...</td>\n",
       "      <td>...</td>\n",
       "    </tr>\n",
       "    <tr>\n",
       "      <th>360</th>\n",
       "      <td>13</td>\n",
       "      <td>11-15</td>\n",
       "      <td>9</td>\n",
       "      <td>6-10</td>\n",
       "    </tr>\n",
       "    <tr>\n",
       "      <th>361</th>\n",
       "      <td>18</td>\n",
       "      <td>more than 15</td>\n",
       "      <td>6</td>\n",
       "      <td>6-10</td>\n",
       "    </tr>\n",
       "    <tr>\n",
       "      <th>362</th>\n",
       "      <td>13</td>\n",
       "      <td>11-15</td>\n",
       "      <td>6</td>\n",
       "      <td>6-10</td>\n",
       "    </tr>\n",
       "    <tr>\n",
       "      <th>363</th>\n",
       "      <td>8</td>\n",
       "      <td>6-10</td>\n",
       "      <td>6</td>\n",
       "      <td>6-10</td>\n",
       "    </tr>\n",
       "    <tr>\n",
       "      <th>364</th>\n",
       "      <td>17</td>\n",
       "      <td>more than 15</td>\n",
       "      <td>6</td>\n",
       "      <td>6-10</td>\n",
       "    </tr>\n",
       "  </tbody>\n",
       "</table>\n",
       "<p>365 rows × 4 columns</p>\n",
       "</div>"
      ],
      "text/plain": [
       "     Facebook Ad Conversions Facebook Conversion Category  \\\n",
       "0                          8                         6-10   \n",
       "1                         12                        11-15   \n",
       "2                          8                         6-10   \n",
       "3                          9                         6-10   \n",
       "4                          7                         6-10   \n",
       "..                       ...                          ...   \n",
       "360                       13                        11-15   \n",
       "361                       18                 more than 15   \n",
       "362                       13                        11-15   \n",
       "363                        8                         6-10   \n",
       "364                       17                 more than 15   \n",
       "\n",
       "     AdWords Ad Conversions AdWords Conversion Category  \n",
       "0                         5                 less than 6  \n",
       "1                         6                        6-10  \n",
       "2                         4                 less than 6  \n",
       "3                         5                 less than 6  \n",
       "4                         7                        6-10  \n",
       "..                      ...                         ...  \n",
       "360                       9                        6-10  \n",
       "361                       6                        6-10  \n",
       "362                       6                        6-10  \n",
       "363                       6                        6-10  \n",
       "364                       6                        6-10  \n",
       "\n",
       "[365 rows x 4 columns]"
      ]
     },
     "execution_count": 23,
     "metadata": {},
     "output_type": "execute_result"
    }
   ],
   "source": [
    "df[['Facebook Ad Conversions','Facebook Conversion Category','AdWords Ad Conversions','AdWords Conversion Category']]"
   ]
  },
  {
   "cell_type": "code",
   "execution_count": 27,
   "id": "8763f700-593d-4121-92a5-8de9a4fd76c3",
   "metadata": {},
   "outputs": [
    {
     "data": {
      "text/plain": [
       "Facebook Conversion Category\n",
       "11-15           189\n",
       "6-10            128\n",
       "more than 15     47\n",
       "less than 6       1\n",
       "Name: count, dtype: int64"
      ]
     },
     "execution_count": 27,
     "metadata": {},
     "output_type": "execute_result"
    }
   ],
   "source": [
    "df['Facebook Conversion Category'].value_counts()"
   ]
  },
  {
   "cell_type": "code",
   "execution_count": 28,
   "id": "a1fa171f-909a-4e9f-b8c3-b7e5e740939d",
   "metadata": {},
   "outputs": [
    {
     "data": {
      "text/html": [
       "<div>\n",
       "<style scoped>\n",
       "    .dataframe tbody tr th:only-of-type {\n",
       "        vertical-align: middle;\n",
       "    }\n",
       "\n",
       "    .dataframe tbody tr th {\n",
       "        vertical-align: top;\n",
       "    }\n",
       "\n",
       "    .dataframe thead th {\n",
       "        text-align: right;\n",
       "    }\n",
       "</style>\n",
       "<table border=\"1\" class=\"dataframe\">\n",
       "  <thead>\n",
       "    <tr style=\"text-align: right;\">\n",
       "      <th></th>\n",
       "      <th>Facebook Conversion Category</th>\n",
       "      <th>count</th>\n",
       "    </tr>\n",
       "  </thead>\n",
       "  <tbody>\n",
       "    <tr>\n",
       "      <th>0</th>\n",
       "      <td>11-15</td>\n",
       "      <td>189</td>\n",
       "    </tr>\n",
       "    <tr>\n",
       "      <th>1</th>\n",
       "      <td>6-10</td>\n",
       "      <td>128</td>\n",
       "    </tr>\n",
       "    <tr>\n",
       "      <th>2</th>\n",
       "      <td>more than 15</td>\n",
       "      <td>47</td>\n",
       "    </tr>\n",
       "    <tr>\n",
       "      <th>3</th>\n",
       "      <td>less than 6</td>\n",
       "      <td>1</td>\n",
       "    </tr>\n",
       "  </tbody>\n",
       "</table>\n",
       "</div>"
      ],
      "text/plain": [
       "  Facebook Conversion Category  count\n",
       "0                        11-15    189\n",
       "1                         6-10    128\n",
       "2                 more than 15     47\n",
       "3                  less than 6      1"
      ]
     },
     "execution_count": 28,
     "metadata": {},
     "output_type": "execute_result"
    }
   ],
   "source": [
    "df['Facebook Conversion Category'].value_counts().reset_index()"
   ]
  },
  {
   "cell_type": "code",
   "execution_count": 35,
   "id": "ad046661-6046-422d-b049-e003c9d8a6a0",
   "metadata": {},
   "outputs": [
    {
     "data": {
      "text/html": [
       "<div>\n",
       "<style scoped>\n",
       "    .dataframe tbody tr th:only-of-type {\n",
       "        vertical-align: middle;\n",
       "    }\n",
       "\n",
       "    .dataframe tbody tr th {\n",
       "        vertical-align: top;\n",
       "    }\n",
       "\n",
       "    .dataframe thead th {\n",
       "        text-align: right;\n",
       "    }\n",
       "</style>\n",
       "<table border=\"1\" class=\"dataframe\">\n",
       "  <thead>\n",
       "    <tr style=\"text-align: right;\">\n",
       "      <th></th>\n",
       "      <th>category</th>\n",
       "      <th>count</th>\n",
       "    </tr>\n",
       "  </thead>\n",
       "  <tbody>\n",
       "    <tr>\n",
       "      <th>0</th>\n",
       "      <td>11-15</td>\n",
       "      <td>189</td>\n",
       "    </tr>\n",
       "    <tr>\n",
       "      <th>1</th>\n",
       "      <td>6-10</td>\n",
       "      <td>128</td>\n",
       "    </tr>\n",
       "    <tr>\n",
       "      <th>2</th>\n",
       "      <td>more than 15</td>\n",
       "      <td>47</td>\n",
       "    </tr>\n",
       "    <tr>\n",
       "      <th>3</th>\n",
       "      <td>less than 6</td>\n",
       "      <td>1</td>\n",
       "    </tr>\n",
       "  </tbody>\n",
       "</table>\n",
       "</div>"
      ],
      "text/plain": [
       "       category  count\n",
       "0         11-15    189\n",
       "1          6-10    128\n",
       "2  more than 15     47\n",
       "3   less than 6      1"
      ]
     },
     "execution_count": 35,
     "metadata": {},
     "output_type": "execute_result"
    }
   ],
   "source": [
    "facebook=pd.DataFrame(df['Facebook Conversion Category'].value_counts()).reset_index().rename(columns={'Facebook Conversion Category':'category'})\n",
    "facebook"
   ]
  },
  {
   "cell_type": "code",
   "execution_count": 32,
   "id": "6891e28f-77b8-4340-8777-cf398dc8b36b",
   "metadata": {},
   "outputs": [
    {
     "data": {
      "text/plain": [
       "AdWords Conversion Category\n",
       "6-10           209\n",
       "less than 6    156\n",
       "Name: count, dtype: int64"
      ]
     },
     "execution_count": 32,
     "metadata": {},
     "output_type": "execute_result"
    }
   ],
   "source": [
    "df['AdWords Conversion Category'].value_counts()"
   ]
  },
  {
   "cell_type": "code",
   "execution_count": 33,
   "id": "c81a41f7-cd6a-4e14-9b97-2c52b15e5f13",
   "metadata": {},
   "outputs": [
    {
     "data": {
      "text/html": [
       "<div>\n",
       "<style scoped>\n",
       "    .dataframe tbody tr th:only-of-type {\n",
       "        vertical-align: middle;\n",
       "    }\n",
       "\n",
       "    .dataframe tbody tr th {\n",
       "        vertical-align: top;\n",
       "    }\n",
       "\n",
       "    .dataframe thead th {\n",
       "        text-align: right;\n",
       "    }\n",
       "</style>\n",
       "<table border=\"1\" class=\"dataframe\">\n",
       "  <thead>\n",
       "    <tr style=\"text-align: right;\">\n",
       "      <th></th>\n",
       "      <th>AdWords Conversion Category</th>\n",
       "      <th>count</th>\n",
       "    </tr>\n",
       "  </thead>\n",
       "  <tbody>\n",
       "    <tr>\n",
       "      <th>0</th>\n",
       "      <td>6-10</td>\n",
       "      <td>209</td>\n",
       "    </tr>\n",
       "    <tr>\n",
       "      <th>1</th>\n",
       "      <td>less than 6</td>\n",
       "      <td>156</td>\n",
       "    </tr>\n",
       "  </tbody>\n",
       "</table>\n",
       "</div>"
      ],
      "text/plain": [
       "  AdWords Conversion Category  count\n",
       "0                        6-10    209\n",
       "1                 less than 6    156"
      ]
     },
     "execution_count": 33,
     "metadata": {},
     "output_type": "execute_result"
    }
   ],
   "source": [
    "df['AdWords Conversion Category'].value_counts().reset_index()"
   ]
  },
  {
   "cell_type": "code",
   "execution_count": 36,
   "id": "41263e5b-7c3a-45a6-87c5-c24a902cb9bc",
   "metadata": {},
   "outputs": [
    {
     "data": {
      "text/html": [
       "<div>\n",
       "<style scoped>\n",
       "    .dataframe tbody tr th:only-of-type {\n",
       "        vertical-align: middle;\n",
       "    }\n",
       "\n",
       "    .dataframe tbody tr th {\n",
       "        vertical-align: top;\n",
       "    }\n",
       "\n",
       "    .dataframe thead th {\n",
       "        text-align: right;\n",
       "    }\n",
       "</style>\n",
       "<table border=\"1\" class=\"dataframe\">\n",
       "  <thead>\n",
       "    <tr style=\"text-align: right;\">\n",
       "      <th></th>\n",
       "      <th>category</th>\n",
       "      <th>count</th>\n",
       "    </tr>\n",
       "  </thead>\n",
       "  <tbody>\n",
       "    <tr>\n",
       "      <th>0</th>\n",
       "      <td>6-10</td>\n",
       "      <td>209</td>\n",
       "    </tr>\n",
       "    <tr>\n",
       "      <th>1</th>\n",
       "      <td>less than 6</td>\n",
       "      <td>156</td>\n",
       "    </tr>\n",
       "  </tbody>\n",
       "</table>\n",
       "</div>"
      ],
      "text/plain": [
       "      category  count\n",
       "0         6-10    209\n",
       "1  less than 6    156"
      ]
     },
     "execution_count": 36,
     "metadata": {},
     "output_type": "execute_result"
    }
   ],
   "source": [
    "adword=pd.DataFrame(df['AdWords Conversion Category'].value_counts()).reset_index().rename(columns={'AdWords Conversion Category':'category'})\n",
    "adword"
   ]
  },
  {
   "cell_type": "code",
   "execution_count": 43,
   "id": "372d04c8-abd9-44d7-be5f-3d4cd7bfe70d",
   "metadata": {},
   "outputs": [
    {
     "data": {
      "text/html": [
       "<div>\n",
       "<style scoped>\n",
       "    .dataframe tbody tr th:only-of-type {\n",
       "        vertical-align: middle;\n",
       "    }\n",
       "\n",
       "    .dataframe tbody tr th {\n",
       "        vertical-align: top;\n",
       "    }\n",
       "\n",
       "    .dataframe thead th {\n",
       "        text-align: right;\n",
       "    }\n",
       "</style>\n",
       "<table border=\"1\" class=\"dataframe\">\n",
       "  <thead>\n",
       "    <tr style=\"text-align: right;\">\n",
       "      <th></th>\n",
       "      <th>category</th>\n",
       "      <th>count_x</th>\n",
       "      <th>count_y</th>\n",
       "    </tr>\n",
       "  </thead>\n",
       "  <tbody>\n",
       "    <tr>\n",
       "      <th>0</th>\n",
       "      <td>11-15</td>\n",
       "      <td>189</td>\n",
       "      <td>NaN</td>\n",
       "    </tr>\n",
       "    <tr>\n",
       "      <th>1</th>\n",
       "      <td>6-10</td>\n",
       "      <td>128</td>\n",
       "      <td>209.0</td>\n",
       "    </tr>\n",
       "    <tr>\n",
       "      <th>2</th>\n",
       "      <td>less than 6</td>\n",
       "      <td>1</td>\n",
       "      <td>156.0</td>\n",
       "    </tr>\n",
       "    <tr>\n",
       "      <th>3</th>\n",
       "      <td>more than 15</td>\n",
       "      <td>47</td>\n",
       "      <td>NaN</td>\n",
       "    </tr>\n",
       "  </tbody>\n",
       "</table>\n",
       "</div>"
      ],
      "text/plain": [
       "       category  count_x  count_y\n",
       "0         11-15      189      NaN\n",
       "1          6-10      128    209.0\n",
       "2   less than 6        1    156.0\n",
       "3  more than 15       47      NaN"
      ]
     },
     "execution_count": 43,
     "metadata": {},
     "output_type": "execute_result"
    }
   ],
   "source": [
    "# Merge both conversion categories\n",
    "Cdf=pd.merge(facebook,adword,on='category',how='outer')\n",
    "Cdf"
   ]
  },
  {
   "cell_type": "code",
   "execution_count": 45,
   "id": "cf04a451-8254-4612-8e3d-1d4ae338a71c",
   "metadata": {},
   "outputs": [
    {
     "data": {
      "text/html": [
       "<div>\n",
       "<style scoped>\n",
       "    .dataframe tbody tr th:only-of-type {\n",
       "        vertical-align: middle;\n",
       "    }\n",
       "\n",
       "    .dataframe tbody tr th {\n",
       "        vertical-align: top;\n",
       "    }\n",
       "\n",
       "    .dataframe thead th {\n",
       "        text-align: right;\n",
       "    }\n",
       "</style>\n",
       "<table border=\"1\" class=\"dataframe\">\n",
       "  <thead>\n",
       "    <tr style=\"text-align: right;\">\n",
       "      <th></th>\n",
       "      <th>category</th>\n",
       "      <th>count_x</th>\n",
       "      <th>count_y</th>\n",
       "    </tr>\n",
       "  </thead>\n",
       "  <tbody>\n",
       "    <tr>\n",
       "      <th>0</th>\n",
       "      <td>11-15</td>\n",
       "      <td>189</td>\n",
       "      <td>0.0</td>\n",
       "    </tr>\n",
       "    <tr>\n",
       "      <th>1</th>\n",
       "      <td>6-10</td>\n",
       "      <td>128</td>\n",
       "      <td>209.0</td>\n",
       "    </tr>\n",
       "    <tr>\n",
       "      <th>2</th>\n",
       "      <td>less than 6</td>\n",
       "      <td>1</td>\n",
       "      <td>156.0</td>\n",
       "    </tr>\n",
       "    <tr>\n",
       "      <th>3</th>\n",
       "      <td>more than 15</td>\n",
       "      <td>47</td>\n",
       "      <td>0.0</td>\n",
       "    </tr>\n",
       "  </tbody>\n",
       "</table>\n",
       "</div>"
      ],
      "text/plain": [
       "       category  count_x  count_y\n",
       "0         11-15      189      0.0\n",
       "1          6-10      128    209.0\n",
       "2   less than 6        1    156.0\n",
       "3  more than 15       47      0.0"
      ]
     },
     "execution_count": 45,
     "metadata": {},
     "output_type": "execute_result"
    }
   ],
   "source": [
    "# fill NaN values means replace with 0 \n",
    "Cdf=pd.merge(facebook,adword,on='category',how='outer').fillna(0)\n",
    "Cdf"
   ]
  },
  {
   "cell_type": "code",
   "execution_count": 54,
   "id": "ed72548b-b6a8-46a7-9134-98eb89871bd4",
   "metadata": {},
   "outputs": [
    {
     "data": {
      "text/plain": [
       "Index(['category', 'count_x', 'count_y'], dtype='object')"
      ]
     },
     "execution_count": 54,
     "metadata": {},
     "output_type": "execute_result"
    }
   ],
   "source": [
    "# Arrange in sequence on the basis of category\n",
    "Cdf=Cdf.iloc[[2,1,0,3]]\n",
    "Cdf\n",
    "Cdf.columns"
   ]
  },
  {
   "cell_type": "code",
   "execution_count": 49,
   "id": "5539739e-62d7-4912-aac4-c510eeffbf23",
   "metadata": {},
   "outputs": [
    {
     "data": {
      "text/plain": [
       "array([0, 1, 2, 3])"
      ]
     },
     "execution_count": 49,
     "metadata": {},
     "output_type": "execute_result"
    }
   ],
   "source": [
    "# Arrange index positions\n",
    "x_axis=np.arange(len(Cdf))\n",
    "x_axis"
   ]
  },
  {
   "cell_type": "code",
   "execution_count": 56,
   "id": "d70a4f17-d704-4541-abed-e3b4597ed7dd",
   "metadata": {},
   "outputs": [
    {
     "data": {
      "image/png": "[encoded data removed]",
      "text/plain": [
       "<Figure size 640x480 with 1 Axes>"
      ]
     },
     "metadata": {},
     "output_type": "display_data"
    }
   ],
   "source": [
    "width=0.4\n",
    "bar1=np.arange(len(Cdf))\n",
    "bar2=[i+ width for i in bar1]\n",
    "\n",
    "plt.xlabel('conversion category')\n",
    "plt.ylabel('number of days')\n",
    "plt.bar(bar1,Cdf['count_x'],width,label='Facebook')\n",
    "plt.bar(bar2,Cdf['count_y'],width,label='AdWords')\n",
    "plt.legend()\n",
    "plt.show()"
   ]
  },
  {
   "cell_type": "markdown",
   "id": "f856b216-58fc-485e-9915-890adaae968a",
   "metadata": {},
   "source": [
    "# Q:- Do more clicks on ad really lead to more sales.?"
   ]
  },
  {
   "cell_type": "code",
   "execution_count": 57,
   "id": "bc157cf7-35c2-447c-9c12-06423466535f",
   "metadata": {},
   "outputs": [
    {
     "data": {
      "image/png": "[encoded data removed]",
      "text/plain": [
       "<Figure size 1500x400 with 2 Axes>"
      ]
     },
     "metadata": {},
     "output_type": "display_data"
    }
   ],
   "source": [
    "plt.figure(figsize=(15,4))\n",
    "plt.subplot(1,2,1)\n",
    "plt.title('Facebook')\n",
    "sns.scatterplot(x='Facebook Ad Clicks',y='Facebook Ad Conversions',data=df)\n",
    "plt.xlabel('clicks')\n",
    "plt.ylabel('conversions')\n",
    "\n",
    "plt.subplot(1,2,2)\n",
    "plt.title('AdWords')\n",
    "sns.scatterplot(x='AdWords Ad Clicks',y='AdWords Ad Conversions',data=df)\n",
    "plt.xlabel('clicks')\n",
    "plt.ylabel('conversions')\n",
    "plt.show()"
   ]
  },
  {
   "cell_type": "code",
   "execution_count": 59,
   "id": "7f2ff699-457d-4620-817c-1750abca3858",
   "metadata": {},
   "outputs": [
    {
     "data": {
      "text/html": [
       "<div>\n",
       "<style scoped>\n",
       "    .dataframe tbody tr th:only-of-type {\n",
       "        vertical-align: middle;\n",
       "    }\n",
       "\n",
       "    .dataframe tbody tr th {\n",
       "        vertical-align: top;\n",
       "    }\n",
       "\n",
       "    .dataframe thead th {\n",
       "        text-align: right;\n",
       "    }\n",
       "</style>\n",
       "<table border=\"1\" class=\"dataframe\">\n",
       "  <thead>\n",
       "    <tr style=\"text-align: right;\">\n",
       "      <th></th>\n",
       "      <th>Facebook Ad Clicks</th>\n",
       "      <th>Facebook Ad Conversions</th>\n",
       "    </tr>\n",
       "  </thead>\n",
       "  <tbody>\n",
       "    <tr>\n",
       "      <th>Facebook Ad Clicks</th>\n",
       "      <td>1.000000</td>\n",
       "      <td>0.873775</td>\n",
       "    </tr>\n",
       "    <tr>\n",
       "      <th>Facebook Ad Conversions</th>\n",
       "      <td>0.873775</td>\n",
       "      <td>1.000000</td>\n",
       "    </tr>\n",
       "  </tbody>\n",
       "</table>\n",
       "</div>"
      ],
      "text/plain": [
       "                         Facebook Ad Clicks  Facebook Ad Conversions\n",
       "Facebook Ad Clicks                 1.000000                 0.873775\n",
       "Facebook Ad Conversions            0.873775                 1.000000"
      ]
     },
     "execution_count": 59,
     "metadata": {},
     "output_type": "execute_result"
    }
   ],
   "source": [
    "# Correlation coefficient of Facebook\n",
    "facebook_corr=df[['Facebook Ad Clicks','Facebook Ad Conversions']].corr()\n",
    "facebook_corr"
   ]
  },
  {
   "cell_type": "markdown",
   "id": "36aa397f-464f-43f9-8b55-7cfcbbb4cba3",
   "metadata": {},
   "source": [
    "Correlation coefficient of Facebook is 0.87 , which means strong correlation"
   ]
  },
  {
   "cell_type": "code",
   "execution_count": 60,
   "id": "414876f0-fc7f-41af-83ef-42515b049dff",
   "metadata": {},
   "outputs": [
    {
     "data": {
      "text/html": [
       "<div>\n",
       "<style scoped>\n",
       "    .dataframe tbody tr th:only-of-type {\n",
       "        vertical-align: middle;\n",
       "    }\n",
       "\n",
       "    .dataframe tbody tr th {\n",
       "        vertical-align: top;\n",
       "    }\n",
       "\n",
       "    .dataframe thead th {\n",
       "        text-align: right;\n",
       "    }\n",
       "</style>\n",
       "<table border=\"1\" class=\"dataframe\">\n",
       "  <thead>\n",
       "    <tr style=\"text-align: right;\">\n",
       "      <th></th>\n",
       "      <th>AdWords Ad Clicks</th>\n",
       "      <th>AdWords Ad Conversions</th>\n",
       "    </tr>\n",
       "  </thead>\n",
       "  <tbody>\n",
       "    <tr>\n",
       "      <th>AdWords Ad Clicks</th>\n",
       "      <td>1.000000</td>\n",
       "      <td>0.447993</td>\n",
       "    </tr>\n",
       "    <tr>\n",
       "      <th>AdWords Ad Conversions</th>\n",
       "      <td>0.447993</td>\n",
       "      <td>1.000000</td>\n",
       "    </tr>\n",
       "  </tbody>\n",
       "</table>\n",
       "</div>"
      ],
      "text/plain": [
       "                        AdWords Ad Clicks  AdWords Ad Conversions\n",
       "AdWords Ad Clicks                1.000000                0.447993\n",
       "AdWords Ad Conversions           0.447993                1.000000"
      ]
     },
     "execution_count": 60,
     "metadata": {},
     "output_type": "execute_result"
    }
   ],
   "source": [
    "# Correlation coefficient of AdWpords\n",
    "adwords_corr=df[['AdWords Ad Clicks','AdWords Ad Conversions']].corr()\n",
    "adwords_corr"
   ]
  },
  {
   "cell_type": "markdown",
   "id": "5a5ce80d-4df2-4467-a005-f822e5bfeea8",
   "metadata": {},
   "source": [
    "Correlation coefficient of AdWords is 0.44 , which means moderate correlation"
   ]
  },
  {
   "cell_type": "markdown",
   "id": "b2fb6003-0e7b-4917-bdca-6f53a1b08891",
   "metadata": {},
   "source": [
    "# Hypothesis Testing"
   ]
  },
  {
   "cell_type": "raw",
   "id": "8f9196b1-ff5b-4f9d-8c44-a120d127b505",
   "metadata": {},
   "source": [
    "Hypothesis : Ad in facebook will result in a greater number of conversions compared to ad on adwords\n",
    "Null Hypothesis - there is no difference in the number of conversions between facebook and adwords , OR Number of conversions on Facebook\n",
    "is less than or equal to conversions on adwords\n",
    "H0=μ_facebook<=μ_adwords\n",
    "Alternate Hypothesis - number of conversion on facebook is greater than on adwords\n",
    "H1=μ_facebook>μ_adwords"
   ]
  },
  {
   "cell_type": "code",
   "execution_count": 65,
   "id": "78c7bd3a-51e0-4aa1-9990-63f3ade58767",
   "metadata": {},
   "outputs": [
    {
     "data": {
      "text/plain": [
       "np.float64(11.742465753424657)"
      ]
     },
     "execution_count": 65,
     "metadata": {},
     "output_type": "execute_result"
    }
   ],
   "source": [
    "df['Facebook Ad Conversions'].mean()"
   ]
  },
  {
   "cell_type": "code",
   "execution_count": 66,
   "id": "723ece40-e04c-48ae-b0b9-5e1829f7cd8b",
   "metadata": {},
   "outputs": [
    {
     "data": {
      "text/plain": [
       "np.float64(5.980821917808219)"
      ]
     },
     "execution_count": 66,
     "metadata": {},
     "output_type": "execute_result"
    }
   ],
   "source": [
    "df['AdWords Ad Conversions'].mean()"
   ]
  },
  {
   "cell_type": "markdown",
   "id": "e94bfb21-addd-4980-b2c4-462442921f60",
   "metadata": {},
   "source": [
    "so, Mean conversion of facebook is 11.74 and Mean conversion of adwords is 5.98\n",
    "thats why we are rejecting Null Hypothesis"
   ]
  },
  {
   "cell_type": "markdown",
   "id": "fc38023d-27dc-4787-90f9-7522c215ee6c",
   "metadata": {},
   "source": [
    "# Regression Analysis on Facebook because we found in Hypothesis Testing that Facebook is better"
   ]
  },
  {
   "cell_type": "raw",
   "id": "8e2af0f6-8065-4c1d-b12d-83e665476012",
   "metadata": {},
   "source": [
    "what will happen when i go with the facebook ad? how many facebook ad conversions can i expect given a certain number of facebook ad clicks .?"
   ]
  },
  {
   "cell_type": "code",
   "execution_count": null,
   "id": "decae777-0a70-412d-90a6-3cef22b94de3",
   "metadata": {},
   "outputs": [],
   "source": [
    "# Libraries\n",
    "from sklearn.linear_model import LinearRegression\n",
    "from sklearn.metrics import r2_score, mean_squared_error\n",
    "from statsmodels.tsa.seasonal import seasonal_decompose\n",
    "from statsmodels.tsa.stattools import coint\n",
    "import warnings\n",
    "warnings.filterwarnings('ignore')"
   ]
  },
  {
   "cell_type": "code",
   "execution_count": null,
   "id": "6965a33a-1c87-4acb-86da-9de4a29a4904",
   "metadata": {},
   "outputs": [],
   "source": [
    "# independent variable\n",
    "x=df['Facebook Ad Clicks']\n",
    "# dependent variable \n",
    "y=df['Facebook Ad Conversions']\n",
    "\n",
    "# initializing and fitting linear regression model\n",
    "reg_model=LinearRegression()\n",
    "reg_model.fit(x,y)\n",
    "# use fitted model for prediction\n",
    "prediction=reg_model.predict(x)\n",
    "\n",
    "# model evaluation\n",
    "r2=r2_score(y,prediction)*100\n",
    "mse=mean_squared_error(y,prediction)\n",
    "print('Accuracy :-',r2,'percent')\n",
    "print('Mean squared error :-',mse)"
   ]
  },
  {
   "cell_type": "code",
   "execution_count": null,
   "id": "a1538890-cb16-4897-8ef8-e07affed58db",
   "metadata": {},
   "outputs": [],
   "source": [
    "sns.scatterplot(x='Facebook Ad Clicks',y='Facebook Ad Conversion',data=df,label='Actual data points')\n",
    "plt.plot(df['Facebook Ad Clicks'],prediction,label='Best fit line')\n",
    "plt.legend()\n",
    "plt.show()"
   ]
  },
  {
   "cell_type": "code",
   "execution_count": null,
   "id": "49041f52-924e-44ec-aaf8-a6d0c21eaa30",
   "metadata": {},
   "outputs": [],
   "source": [
    "print('For 50 clicks , expected conversion :-',reg_model.predict([[50]])[0][0])\n",
    "print('For 80 clicks , expected conversion :-',reg_model.predict([[80]])[0][0])"
   ]
  },
  {
   "cell_type": "code",
   "execution_count": null,
   "id": "afd08161-dc78-48cd-b4e2-7c717aef0a45",
   "metadata": {},
   "outputs": [],
   "source": []
  }
 ],
 "metadata": {
  "kernelspec": {
   "display_name": "Python 3 (ipykernel)",
   "language": "python",
   "name": "python3"
  },
  "language_info": {
   "codemirror_mode": {
    "name": "ipython",
    "version": 3
   },
   "file_extension": ".py",
   "mimetype": "text/x-python",
   "name": "python",
   "nbconvert_exporter": "python",
   "pygments_lexer": "ipython3",
   "version": "3.13.2"
  }
 },
 "nbformat": 4,
 "nbformat_minor": 5
}
